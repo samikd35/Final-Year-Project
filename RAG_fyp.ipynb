{
  "nbformat": 4,
  "nbformat_minor": 0,
  "metadata": {
    "colab": {
      "provenance": [],
      "gpuType": "T4"
    },
    "kernelspec": {
      "name": "python3",
      "display_name": "Python 3"
    },
    "language_info": {
      "name": "python"
    },
    "accelerator": "GPU"
  },
  "cells": [
    {
      "cell_type": "code",
      "execution_count": 1,
      "metadata": {
        "colab": {
          "base_uri": "https://localhost:8080/"
        },
        "id": "dGWqRe8PRoOX",
        "outputId": "9e70cf35-4f7e-4bd0-b213-182ab86123e4"
      },
      "outputs": [
        {
          "output_type": "stream",
          "name": "stdout",
          "text": [
            "Mounted at /content/drive\n"
          ]
        }
      ],
      "source": [
        "from google.colab import drive\n",
        "drive.mount('/content/drive')"
      ]
    },
    {
      "cell_type": "markdown",
      "source": [
        "# The Libraries"
      ],
      "metadata": {
        "id": "gIDwjKFauEhY"
      }
    },
    {
      "cell_type": "code",
      "source": [
        "!pip install -u -q langchain\n",
        "!pip install -u -q torch\n",
        "!pip install -u -q transformers\n",
        "!pip install -u -q sentence-transformers\n",
        "!pip install -u -q datasets\n",
        "!pip install -u -q faiss-cpu\n",
        "!pip install -u -q  langchain sentence_transformers"
      ],
      "metadata": {
        "id": "68fQKtETkO6E",
        "colab": {
          "base_uri": "https://localhost:8080/"
        },
        "outputId": "9f97bcc0-39b2-40d7-82ac-261182368f88"
      },
      "execution_count": 2,
      "outputs": [
        {
          "output_type": "stream",
          "name": "stdout",
          "text": [
            "\u001b[2K     \u001b[90m━━━━━━━━━━━━━━━━━━━━━━━━━━━━━━━━━━━━━━━━\u001b[0m \u001b[32m867.6/867.6 kB\u001b[0m \u001b[31m12.6 MB/s\u001b[0m eta \u001b[36m0:00:00\u001b[0m\n",
            "\u001b[2K     \u001b[90m━━━━━━━━━━━━━━━━━━━━━━━━━━━━━━━━━━━━━━━━\u001b[0m \u001b[32m2.0/2.0 MB\u001b[0m \u001b[31m27.5 MB/s\u001b[0m eta \u001b[36m0:00:00\u001b[0m\n",
            "\u001b[2K     \u001b[90m━━━━━━━━━━━━━━━━━━━━━━━━━━━━━━━━━━━━━━━━\u001b[0m \u001b[32m302.8/302.8 kB\u001b[0m \u001b[31m24.1 MB/s\u001b[0m eta \u001b[36m0:00:00\u001b[0m\n",
            "\u001b[2K     \u001b[90m━━━━━━━━━━━━━━━━━━━━━━━━━━━━━━━━━━━━━━━━\u001b[0m \u001b[32m116.7/116.7 kB\u001b[0m \u001b[31m15.6 MB/s\u001b[0m eta \u001b[36m0:00:00\u001b[0m\n",
            "\u001b[2K     \u001b[90m━━━━━━━━━━━━━━━━━━━━━━━━━━━━━━━━━━━━━━━━\u001b[0m \u001b[32m49.3/49.3 kB\u001b[0m \u001b[31m6.6 MB/s\u001b[0m eta \u001b[36m0:00:00\u001b[0m\n",
            "\u001b[2K     \u001b[90m━━━━━━━━━━━━━━━━━━━━━━━━━━━━━━━━━━━━━━━━\u001b[0m \u001b[32m53.0/53.0 kB\u001b[0m \u001b[31m7.5 MB/s\u001b[0m eta \u001b[36m0:00:00\u001b[0m\n",
            "\u001b[2K     \u001b[90m━━━━━━━━━━━━━━━━━━━━━━━━━━━━━━━━━━━━━━━━\u001b[0m \u001b[32m142.5/142.5 kB\u001b[0m \u001b[31m18.8 MB/s\u001b[0m eta \u001b[36m0:00:00\u001b[0m\n",
            "\u001b[2K     \u001b[90m━━━━━━━━━━━━━━━━━━━━━━━━━━━━━━━━━━━━━━━━\u001b[0m \u001b[32m171.5/171.5 kB\u001b[0m \u001b[31m5.2 MB/s\u001b[0m eta \u001b[36m0:00:00\u001b[0m\n",
            "\u001b[2K     \u001b[90m━━━━━━━━━━━━━━━━━━━━━━━━━━━━━━━━━━━━━━━━\u001b[0m \u001b[32m542.0/542.0 kB\u001b[0m \u001b[31m11.8 MB/s\u001b[0m eta \u001b[36m0:00:00\u001b[0m\n",
            "\u001b[2K     \u001b[90m━━━━━━━━━━━━━━━━━━━━━━━━━━━━━━━━━━━━━━━━\u001b[0m \u001b[32m116.3/116.3 kB\u001b[0m \u001b[31m10.7 MB/s\u001b[0m eta \u001b[36m0:00:00\u001b[0m\n",
            "\u001b[2K     \u001b[90m━━━━━━━━━━━━━━━━━━━━━━━━━━━━━━━━━━━━━━━━\u001b[0m \u001b[32m194.1/194.1 kB\u001b[0m \u001b[31m15.1 MB/s\u001b[0m eta \u001b[36m0:00:00\u001b[0m\n",
            "\u001b[2K     \u001b[90m━━━━━━━━━━━━━━━━━━━━━━━━━━━━━━━━━━━━━━━━\u001b[0m \u001b[32m134.8/134.8 kB\u001b[0m \u001b[31m12.4 MB/s\u001b[0m eta \u001b[36m0:00:00\u001b[0m\n",
            "\u001b[2K     \u001b[90m━━━━━━━━━━━━━━━━━━━━━━━━━━━━━━━━━━━━━━━━\u001b[0m \u001b[32m401.2/401.2 kB\u001b[0m \u001b[31m19.7 MB/s\u001b[0m eta \u001b[36m0:00:00\u001b[0m\n",
            "\u001b[2K     \u001b[90m━━━━━━━━━━━━━━━━━━━━━━━━━━━━━━━━━━━━━━━━\u001b[0m \u001b[32m27.0/27.0 MB\u001b[0m \u001b[31m23.2 MB/s\u001b[0m eta \u001b[36m0:00:00\u001b[0m\n",
            "\u001b[?25h"
          ]
        }
      ]
    },
    {
      "cell_type": "code",
      "source": [
        "from langchain.document_loaders import HuggingFaceDatasetLoader\n",
        "from langchain.text_splitter import RecursiveCharacterTextSplitter\n",
        "from langchain.embeddings import HuggingFaceEmbeddings\n",
        "from langchain.vectorstores import FAISS\n",
        "from langchain.embeddings import HuggingFaceEmbeddings\n",
        "from transformers import AutoTokenizer, AutoModelForQuestionAnswering\n",
        "from transformers import AutoTokenizer, pipeline\n",
        "from langchain import HuggingFacePipeline\n",
        "from langchain.chains import RetrievalQA"
      ],
      "metadata": {
        "id": "MlGeoE20rh7-"
      },
      "execution_count": 3,
      "outputs": []
    },
    {
      "cell_type": "markdown",
      "source": [
        "# Document Loading"
      ],
      "metadata": {
        "id": "RHqP3aC7uMnz"
      }
    },
    {
      "cell_type": "code",
      "source": [
        "from langchain_community.document_loaders.csv_loader import CSVLoader\n",
        "\n",
        "loader = CSVLoader(file_path=\"/content/drive/MyDrive/combined_data.csv\")\n",
        "\n",
        "data = loader.load()"
      ],
      "metadata": {
        "id": "Wee2gMWRvz-V"
      },
      "execution_count": 4,
      "outputs": []
    },
    {
      "cell_type": "code",
      "source": [
        "print(data[18])"
      ],
      "metadata": {
        "colab": {
          "base_uri": "https://localhost:8080/"
        },
        "id": "w4xmusyazuh5",
        "outputId": "cbd145a3-7140-42ca-bf9a-79e634588194"
      },
      "execution_count": 5,
      "outputs": [
        {
          "output_type": "stream",
          "name": "stdout",
          "text": [
            "page_content='Description: band 1 program bachelor of science degree in software engineering compiled by 1 girma neshir phd assistant prof addis ababa science and technology universityaastu 2 birhanu sisay msc lecturer arba minch universityamu december 2023 ministry of education bonga ethiopia 0 table of contents 1 introduction 2 2 objective of test blueprint 3 3 steps to develop test blueprint 3 4 issues to consider in test blueprint preparation 4 5 required documents to prepare the test blueprint 4 6 i knowledge 4 ii skill 5 iii attitude 6 conclusion 20 1 1 introduction the ministry of education of ethiopia has announced the implementation of exit exam for all undergraduate program students public and private beginning with the 20232024 academic year in order to improve the quality of graduates produced by higher learning institutions the exit exam aimed at checking whether students have acquired the required knowledge skills and attitudes or not to implement this it requires determining competency areas for a specific program which is already completed based on the competency areas prepared it needs to plan the construction of tests planning of a test is a first and vital step in the construction of an achievement test an achievement test demands very systematic and careful planning as a fact that good planning is a symbol of success tests are the tools that provide scores that measure level of student learning and study program learning outcomes in order to achieve the valid and reliable measurement of student learning and program learning outcomes the development of valid and reliable test is the mandatory test should be able to measure student performance in all dimensions of knowledge skill and attitude the carefully planned test construction contributes to improve the overall quality of the test in terms of test content validity difficulty level discrimination power and test reliability test preparation is not an easy task it requires a careful planning and guideline to make the task simple test construction needs the preparation of test blue print test blueprint is defined as a complete plan that explains how to develop a test the term refers to a map or specification of assessment to ensure that all aspects of the curriculum and educational domains are covered by the assessment programs over a specified period of time it helps curriculum developerstest constructors to match various competencies with the course content and the appropriate modality of assessment generally test blueprint will help to ensure tests 1 appropriately assess the achievement of instructional objectives of the course 2 appropriately reflect key course goals objectives and the material learned or covered during the instruction period and 3 include the appropriate item formats along with the knowledge and skills being assessed 2 keeping this in mind the team has prepared this test blueprint document in order to help the test developers or content specialists in their process of valid and reliable test construction the major points considered in the process of preparing this test blue print guideline were the core competencies that have been already identified for the themes of courses the course contents course credit hours and the learning outcomes with their corresponding levels of achievement by learning domains in line with these the number of test items that should adequately assess the performance of students in all the content topics will be determined through discussion with the content specialists who construct the blueprint and test for their corresponding study program therefore the main purpose of this manual is to give direction on how to develop blueprint for content specialists so that they can develop a test blueprint for their respective program 2 objective of test blueprint test blueprint preparation is generally opted to assist the preparation of a test that is representative broadly sampled and consisting of complete knowledge domain expected of the ethiopian higher education students on completion of their study program the specific objectives of test blueprint are to facilitate the construction of a representative and balanced test items for the selected courses in accordance with the competencies identified guide test developers or writers to write or set appropriate test items 3 steps to develop test blueprint i listing the identified core competencies corresponding to the respective course ii listing the specific and minimum competencies to be assessed by the exam iii listing out the major learned course contents corresponding to these listed minimum competencies iv listing the specific measurable learning outcomes under these minimum competencies using action verbs note the number and the importance of these learning outcomes proportionally contribute to the total test items the weight of the categories of the list of learning outcomes under each competencies and contents should lead to the number of total test items to be constructed 3 v determination of the test format vi content weighting experts judge the weight to be given to the listed learning outcomes and their corresponding contents vii identifying the categories of learning domains to which each of these learning outcomes belongs using their action verbs viii construction of test blueprint table ix allocating the number of test items for each learning outcomes by their corresponding types and levels of learning domains x determination of the subtotal and total test items by their categories of learning domains and learning outcomes 4 issues to considered in test blueprint preparation i curriculum details ii course outlinesguidebook details lists of learning outcomes lecture notes textbooks and other curricular materials iii course contents pertinent to the respective learning outcomes iv time devoted to cover the content with in a course course credit hour v total test length ie total number of test items vi number of questions allocated to each content area using the proportion calculated vii weight for each item viii relevance of the content to students future career in addition to these following the template mentioned below will help to prepare the blueprint 5 required documents used for the test blueprint to prepare a test blueprint we used the following documents in our hand 1 identified core competencies and learning outcome of the program software engineering graduates are expected to demonstrate the following knowledge skill and attitudes i knowledge conduct investigation of complex problems using researchbased knowledge and research methods including design of experiments analysis and 4 interpretation of data and synthesis of information to provide valid conclusions adopt innovate select and apply appropriate state of the art software design and development tools methodologies resources and emerging technologies including simulation prediction and modeling for complex business process with understanding of their potential capabilities limitations and associated risks identify formulate research literature and analyze complex problems reaching substantiated justifiable validated conclusions using software development principles methodologies and tools apply logical reasoning and informed decision to assess societal health safety privacy security legal and cultural issues and the consequent responsibilities relevant to software engineering application understand the impact of software applications in societal and environmental contexts and apply the principle of green computing for sustainable development ii skill design integrated and efficient software solutions component or processes to address complex problems and implement them to meet the specified needs with appropriate consideration for public health and safety cultural societal local and international and environmental considerations communicate effectively on complex business and system activities with the software engineering community and with a society at large such as being able to comprehend and write effective reports articles and design documentations using various tools make effective presentations and give and receive clear instructions demonstrate knowledge and skill on software project management principles and apply these to manage software development processes and its resource requirements costs in multidisciplinary projects apply knowledge of mathematics and software engineering specialization to address complex and largescale problems 5 iii attitude apply ethical principles and commit to professional ethics and responsibilities and norms of software engineering practice function effectively as an independent software engineer as a member or as a leader in a diverse team and multidisciplinary settings recognize the need for and have the preparation as well as ability to engage in an independent and lifelong learning in the information and knowledge economy 2 curriculum of the program see appendix b of curricula of bsc in software engineering of addis ababa science and tech university and arba minch university expected profile of the graduates this exit exam is expected to measure the software engineering graduates knowledge skill and attitude so that they use current techniques skills and tools necessary for software development testing and maintenance acquire the knowledge and innovative skills to plan set up and run software related businesses understand best practices and standards of software engineering program and their application be familiar with the required software project management skill that enable them to manage complex software projects understand professional ethical legal security and social issues and responsibilities have ability to apply knowledge of computing and mathematics to resolve onhand and upcoming problems have recognition of the need for and an ability to engage in continuing professional development and the knowledge and skills to act as research assistants or lecturers in higher education institutions general objective the software engineering program shall have the following general objectives 6 to produce large scale software developers project managers and leaders who has an ability to address complex and largescale problems to produce digital innovators and entrepreneurs to nurture professionally qualified software engineers with the potential to become consultant trainer software requirement engineer software architect system analyst software quality assurance and tester to produce software engineers who incorporate standards and security in software development with appropriate consideration of sociocultural and environmental safety to produce researchers and software engineers who will develop dynamic and smart software solutions using emerging technologies to address complex national and global challenges and demonstrate lifelong learning and continuing professional development specific objectivesselected from courses specific objectives by the end of the program the graduates will be able achieve the following specific objectives identify the basic concepts of programming with its program development process apply the basic programming constructors and the various programming techniques demonstrate problem solving skills by analyzing a variety of realworld problems using program solving techniques analyze modular programming user defined data type file stream handling and vectors by solving variety programming problems develop debug and test medium scale applications by analysing a variety of realworld problems follow the ability of selfeducation and lifelong learning needed by computer programming state how data is organized in a computer how it can be retrieved and how it can be used explain the basic techniques for the design and analysis of efficient algorithm apply various data structures including linked lists queues stacks binary trees search trees and graphs 7 distinguish complexity efficiency of searching and sorting algorithms using empirical and theoretical analysis design algorithms to solve reallife problems discuss major concepts of objectoriented programming object technology and programming environment use inheritance encapsulation polymorphism exception handling and io functionality create eventdriven gui containers and components within an integrated development environment design and develop objectoriented software recognize a web protocol design and development of webbased application use modern tools and techniques for developing webbased applications develop a websites web frameworks using basic html css javascript ajax and serverside scripting create dynamic and interactive web pages as well as ability to connect to a wide range of databases assess webbased solution and engage in an independent and lifelong learning in the broad scope of internet programming as well as web application state the basic components of an android application and mobile computing demonstrate basic skills mobile computing of using an integrated development environment evaluate the security concerns of the mobile computing technologies and mobile networks choose the legal and ethical principles mobile application framework for designing and constructing mobile software application explain fundamentals of database system concepts technology models of database and optimization write sql statements for data creation and manipulation purposes design the database models from specifications using a popular dbms manage the possible problems that may occur in securing data recall the structure and functionality of modern operating systems explain conditions that lead to deadlock and memory management io mass storage and file management issues describe security and protection measures used in operating systems use knowledge of process management and synchronization for software development 8 compare the various algorithms on which the core functions of the operating systems are built on identifies the basic principles of software engineering describe software process and stateofthearts software process models explain fundamental concept of data communication computer networks and computer system security as well as setup and configure smallarea network demonstrate installation and configuration of system software and make use of software engineering tools be aware of the professional ethical and norm of software engineering practice describe the role of requirement engineering in software development use the appropriate requirements elicitation techniques to identify requirements develop effective functional and nonfunctional requirements document that are complete concise correct consistent testable and unambiguous manage the change to software requirements explain the role of software architecture and software design principles apply the different types of design patterns in software development evaluate various architectural styles and solutions based on quality attributes design a largescale software system that reflects and balances the different needs of its stakeholders develop work breakdown structure schedule and cost for software projects use project management tools techniques and skills prepare plan documents for software project management risk management software quality management and assurance apply modern software testing processes in relation to software development and project management create test strategies and plans design test cases prioritize and execute them manage incidents and risks within a project become competent expert in designing implementation and development of quality software systems and it processes examine the major software defects bugs and code smells estimate the maintenance cost efforts size and time for software maintenance apply the best practices and models in software maintenance process maintain a software based on the reengineering and refactoring methods and principles 9 describe concepts of network fundamentals analyze the different networking layers design appropriate computer network services based on a given requirement identify malicious code functions threats vulnerabilities possible propagation and mitigation methods assess computing cryptography and cryptanalysis develop mechanisms for authentication and access control in a domain compare types of firewall and intrusion detection methods explain fundamental concepts of artificial intelligent agents compare the basic search strategies used in an intelligent agent apply the law of logic to represent knowledge for an expert system engage in independent and lifelong learning with the broad application area of artificial intelligence explain the distinction between supervised and unsupervised learning as well the interests and difficulties of both approaches implement the major machine learning algorithms for data analytics formulate research on a personal project using machine learning techniques themes and list of courses to help demarcate the focus areas and competency boundaries that are covered by the identified courses the courses have been categorized under five themes accordingly table 1 maps courses to the respective themes identified table 1 courses categorization based on themes sn themes 1 problem analysis and 1 fundamental of programing 8 programming 2 fundamental of data structure and algorithm 4 3 object oriented programming 3 4 internet programming or web programming 6 5 mobile application development 3 6 fundamentals of database systems 4 7 operating systems 4 software requirement 8 fundamentals of software engineering 4 design and architecture 9 software requirement engineering 3 2 3 courses to be included in the exit exam credhrs 10 software architecture and design 3 software project 11 software project management 3 management maintenance 12 software testing and quality assurance 3 and quality assurance 13 software evolution and maintenance 3 10 4 networking and software 14 fundamentals of networking and software and information security 5 ai and related areas 7 security 15 fundamentals of artificial intelligence and machine 6 learning total credit hours 64 total credit hour of the selected courses o 64 credit hours share of the themescoursesitems in percentage please see table 2 in the appendix a o share of themes t where a is the credit hour of a theme and b is the total credit hour of the program credit hour of a theme is the sum of credit hours of courses in the theme o share of courses per theme c o share of items per course learning outcomes in terms of the three domains cognitive affective and psychomotor test blueprint table table of specification see table 2 below 11 problem analysis and programmin g 3164 49 conduct investigation of complex problems using researchbased knowledge and research methods including design of experiments analysis and interpretation of data and synthesis of information to provide valid conclusions apply knowledge of mathematics and software engineering specialization to address complex and largescale problems conduct investigation of complex problems using researchbased knowledge and research methods including fundamental of programing 8 state how data is organized in a computer how it can be retrieved and how it can be used explain the basic techniques for the design and analysis of efficient algorithm apply various data structures 1 fundamental of data structure and algorithm 43149 6 items 4 12 no of items 2 psychomotor analyze modular programming user defined data type file stream handling and vectors by solving variety programming problems develop debug and test medium scale applications by analysing a variety of realworld problems follow the ability of selfeducation and lifelong learning needed by computer programming 83149 11 items creationsynthesi s affective 1 evaluation identify the basic concepts of programming with its program development process apply the basic programming constructors and the various programming techniques demonstrate problem solving skills by analyzing a variety of realworld problems using program solving techniques analysis application specific objectiveslearning outcomes understanding name of courses share of the course in learning outcomes cognitive remembering general objective competencies no item per learning outcome themes share of the themes in credit hour ministry of education table 2 higher education subsector test blueprint table specification for bsc in software engineering 1 3 3 2 2 11 2 2 2 1 1 1 1 1 2 2 design of experiments analysis and interpretation of data and synthesis of information to provide valid conclusions including linked lists queues stacks binary trees search trees and graphs design integrated and efficient software solutions component or processes to address complex problems and implement them to meet the specified needs with appropriate consideration for public health and safety cultural societal local and international and environmental considerations adopt innovate select and apply appropriate state of the art software design and development tools methodologies resources and emerging technologies including simulation prediction and modeling for complex business process with understanding of their potential capabilities limitations and associated risks ca2 object oriented programming 33149 5items 3 6 distinguish complexity efficiency of searching and sorting algorithms using empirical and theoretical analysis design algorithms to solve reallife problems 1 discuss major concepts of objectoriented programming object technology and programming environment use inheritance encapsulation polymorphism exception handling and io functionality create eventdriven gui containers and components within an integrated development environment design and develop objectoriented software 1 13 1 1 1 1 2 2 5 1 1 1 1 adopt innovate select and apply appropriate state of the art software design and development tools methodologies resources and emerging technologies including simulation prediction and modeling for complex business process with understanding of their potential capabilities limitations and associated risks internet programming or web programming 63149 9 6 apply ethical principles and commit to professional ethics and responsibilities and norms of software engineering practice adopt innovate select and apply appropriate state of the art software design and development tools methodologies resources and emerging technologies including simulation prediction and modeling for complex business process with understanding of recognize a web protocol design and development of webbased application 2 use modern tools and techniques for developing webbased applications 2 develop a websites web frameworks using basic html css javascript ajax and serverside scripting create dynamic and interactive web pages as well as ability to connect to a wide range of databases assess webbased solution and engage in an independent and lifelong learning in the broad scope of internet programming as well as web application 2 2 2 9 2 2 2 1 1 mobile application development 33149 5items state the basic components of an android application and mobile computing demonstrate basic skills mobile computing of using an integrated development environment evaluate the security concerns of the mobile computing technologies and mobile networks choose the legal and ethical principles mobile application framework for designing and constructing mobile software application 14 1 1 2 2 5 1 1 1 1 their potential capabilities limitations and associated risks apply ethical principles and commit to professional ethics and responsibilities and norms of software engineering practice apply logical reasoning and informed decision to assess societal health safety privacy security legal and cultural issues and the consequent responsibilities relevant to software engineering application understand the impact of software applications in societal and environmental contexts and apply the principle of green computing for sustainable development apply ethical principles and commit to professional ethics and responsibilities and norms of software engineering practice fundamentals of database systems 43149 6items 4 operating systems 43149 6items 4 explain fundamentals of database system concepts technology models of database and optimization 1 write sql statements for data creation and manipulation purposes 2 design the database models from specifications using a popular dbms manage the possible problems that may occur in securing data 2 2 1 1 recall the structure and functionality of modern operating systems 1 explain conditions that lead to deadlock and memory management io mass storage and file management issues describe security and protection measures used in operating systems 2 use knowledge of process management and synchronization for software development compare the various algorithms on which the core functions of the operating systems are built on 1 15 1 2 6 1 2 6 1 1 1 1 1 software requirement design and architecture 1064 16 identify formulate research literature and analyze complex problems reaching substantiated justifiable validated conclusions using software development principles methodologies and tools fundamentals of software engineering 41016 6items identifies the basic principles of software engineering 1 1 describe software process and stateofthearts software process models explain fundamental concept of data communication computer networks and computer system security as well as setup and configure smallarea network demonstrate installation and configuration of system software and make use of software engineering tools be aware of the professional ethical and norm of software engineering practice 1 1 1 1 describe the role of requirement engineering in software development use the appropriate requirements elicitation techniques to identify requirements develop effective functional and nonfunctional requirements document that are complete concise correct consistent testable and unambiguous manage the change to software requirements 1 explain the role of software architecture and software design principles apply the different types of design patterns in software development 1 4 communicate effectively on complex business and system activities with the software engineering community and with a society at large such as being able to comprehend and write effective reports articles and design documentations using various tools make effective presentations and give and receive clear instructions design integrated and efficient software solutions component or processes to software requirement engineering 31016 5items 3 software architecture and design 31016 5items 3 16 6 2 2 1 1 1 1 1 5 2 2 1 1 1 1 1 5 address complex problems and implement them to meet the specified needs with appropriate consideration for public health and safety cultural societal local and international and environmental considerations software project management maintenance and quality assurance 964100 14 demonstrate knowledge and skill on software project management principles and apply these to manage software development processes and its resource requirements costs in multidisciplinary projects function effectively as an independent software engineer as a member or as a leader in a diverse team and multidisciplinary settings recognize the need for and have the preparation as well as ability to engage in an independent and lifelong learning in the information and knowledge software project management 5 items 3 1 evaluate various architectural styles and solutions based on quality attributes design a largescale software system that reflects and balances the different needs of its stakeholders explain software project 1 2 2 1 management tasks software testing and quality assurance 5 items 1 3 5 develop work breakdown structure schedule and cost for software projects use project management tools techniques and skills prepare plan documents for software project management risk management software quality management and assurance 2 apply modern software testing processes in relation to software development and project management create test strategies and plans design test cases prioritize and execute them 1 2 2 manage incidents and risks within a project 1 1 17 1 2 1 1 1 1 5 economy apply knowledge of mathematics and software engineering specialization to address complex and largescale problems networking and software security 764100 109 apply logical reasoning and informed decision to assess societal health safety privacy security legal and cultural issues and the consequent responsibilities relevant to software engineering application apply ethical principles and commit to professional ethics and responsibilities and norms of software engineering practice software evolution and maintenance 5 items 3 become competent expert in designing implementation and development of quality software systems and it processes 1 examine the major software defects bugs and code smells 1 estimate the maintenance cost efforts size and time for software maintenance apply the best practices and models in software maintenance process 1 maintain a software based on the reengineering and refactoring methods and principles describe concepts of network fundamentals 2 analyze the different networking layers design appropriate computer network services based on a given requirement 3 identify malicious code functions threats vulnerabilities possible propagation and mitigation methods 2 assess computing cryptography and cryptanalysis develop mechanisms for authentication and access control in a domain compare types of firewall and intrusion detection methods explain fundamental concepts of artificial intelligent agents 2 fundamentals of networking 47109 6items 4 software and information security 37109 5items 3 ai and related areas adopt innovate select and apply fundamentals of artificial 3 18 1 1 5 1 1 1 1 2 1 6 3 2 2 2 5 2 1 1 1 1 1 1 664100 94 appropriate state of the art software design and development tools methodologies resources and emerging technologies including simulation prediction and modeling for complex business process with understanding of their potential capabilities limitations and associated risks intelligence 3694 5items conduct investigation of complex problems using researchbased knowledge and research methods including design of experiments analysis and interpretation of data and synthesis of information to provide valid conclusions intr to machine learning 3694 5items compare the basic search strategies used in an intelligent agent apply the law of logic to represent knowledge for an expert system 2 engage in independent and lifelong learning with the broad application area of artificial intelligence 1 explain the distinction between supervised and unsupervised learning as well the interests and difficulties of both approaches implement the major machine learning algorithms for data analytics formulate research on a personal project using machine learning techniques 2 3 2 1 5 1 1 2 5 2 2 1 1 key in the cellsboxes there are numbers that indicate the number of items that correspond to the levels of domains 19 6 conclusion exit examination can have a vital role in producing knowledgeable skillful and attitudinally matured graduates it contributes to prepare competent graduates as it can serve as a quality check for effectiveness it also helps in improving academic programs quality and effectiveness furthermore it can create the platform for cooperation among academic programs at different universities to work jointly to improve the programs quality in view of this this document is produced to assist the setting of the exit examinations for all programs which is being delivered by ministry of education to meet the graduation profile competency and learning outcome exit exam competency selection and identifying core course is done for 2016 ec graduating students as a result preparing test blueprint is necessary to prepare fairly distributed items based on the above criteria 20 appendix a weight of course or proportion number of test items from each course cognitive understand apply analyze evaluate create affective psychomotor total themes course name theme one 1 2 3 4 5 6 7 theme one total credit 1 2 3 theme two total credit 8 4 3 6 3 4 4 31 831 026 431 013 331 01 631 0194 331 01 431 013 431 013 02649 11 01349 6 0149 5 019449 9 0149 5 01349 6 01349 6 1 1 1 1 1 1 2 1 3 3 2 2 2 2 2 1 2 1 1 1 1 4 1 2 4 3 1 1 11 6 5 9 5 6 6 4 3 3 10 410 04 310 03 310 03 0416 6 0316 5 0316 5 3 1 1 2 1 1 1 3 2 1 6 5 5 1 2 3 theme three total credit 1 2 theme three total credit 3 3 3 9' metadata={'source': '/content/drive/MyDrive/combined_data.csv', 'row': 18}\n"
          ]
        }
      ]
    },
    {
      "cell_type": "markdown",
      "source": [
        "# Document Transformers"
      ],
      "metadata": {
        "id": "plAATJIcEbuW"
      }
    },
    {
      "cell_type": "code",
      "source": [
        "text_splitter = RecursiveCharacterTextSplitter(\n",
        "    # Set a really small chunk size, just to show.\n",
        "    chunk_size=3000,\n",
        "    chunk_overlap=1000,\n",
        "    length_function=len,\n",
        "    is_separator_regex=False,\n",
        ")\n",
        "\n",
        "text = text_splitter.split_documents(data)\n"
      ],
      "metadata": {
        "id": "ElDJNlS3NyO-"
      },
      "execution_count": 6,
      "outputs": []
    },
    {
      "cell_type": "code",
      "source": [
        "number_of_chunks = len(text)\n",
        "print(f\"Number of chunks: {number_of_chunks}\")"
      ],
      "metadata": {
        "colab": {
          "base_uri": "https://localhost:8080/"
        },
        "id": "r2OOY8XrNyLJ",
        "outputId": "75235ea1-6c0f-4c24-bb7b-2dbf1bbaa037"
      },
      "execution_count": 7,
      "outputs": [
        {
          "output_type": "stream",
          "name": "stdout",
          "text": [
            "Number of chunks: 158\n"
          ]
        }
      ]
    },
    {
      "cell_type": "markdown",
      "source": [
        "# Text Embedding\n"
      ],
      "metadata": {
        "id": "spjGsY9JisgV"
      }
    },
    {
      "source": [
        "embeddings = HuggingFaceEmbeddings(model_name=\"distilbert-base-uncased\")"
      ],
      "cell_type": "code",
      "metadata": {
        "id": "lw_OMjiPqT68"
      },
      "execution_count": null,
      "outputs": []
    },
    {
      "cell_type": "code",
      "source": [
        "t = \"This is for test!\"\n",
        "\n",
        "query_result = embeddings.embed_query(t)\n",
        "query_result[:3]"
      ],
      "metadata": {
        "colab": {
          "base_uri": "https://localhost:8080/"
        },
        "id": "EW7SGyjFnt18",
        "outputId": "9dc1293b-7ec9-49b1-bbd4-465e99a47509"
      },
      "execution_count": 21,
      "outputs": [
        {
          "output_type": "execute_result",
          "data": {
            "text/plain": [
              "[0.2629988491535187, -0.29235485196113586, 0.04708665981888771]"
            ]
          },
          "metadata": {},
          "execution_count": 21
        }
      ]
    },
    {
      "cell_type": "markdown",
      "source": [
        "# Vector Store"
      ],
      "metadata": {
        "id": "4k66YlAgtn-H"
      }
    },
    {
      "cell_type": "code",
      "source": [
        "db = FAISS.from_documents(text, embeddings)"
      ],
      "metadata": {
        "id": "ELbV5nV6rB_q"
      },
      "execution_count": 22,
      "outputs": []
    },
    {
      "cell_type": "code",
      "source": [
        "question = \"What is aastu?\"\n",
        "searchDocs = db.similarity_search(question)\n",
        "print(searchDocs[1].page_content)"
      ],
      "metadata": {
        "colab": {
          "base_uri": "https://localhost:8080/"
        },
        "id": "jwi9lv0xtvs8",
        "outputId": "8578347c-0536-47ab-a080-ec6c822fa9ea"
      },
      "execution_count": 29,
      "outputs": [
        {
          "output_type": "stream",
          "name": "stdout",
          "text": [
            "Description: rstanding of the design criteria and determine the optimal location for a chemical pla\"\n"
          ]
        }
      ]
    },
    {
      "cell_type": "markdown",
      "source": [
        "# Preparing the LLM Model"
      ],
      "metadata": {
        "id": "-o-f0ube27x4"
      }
    },
    {
      "cell_type": "code",
      "source": [
        "# Import libraries (assuming you already have transformers installed)\n",
        "from transformers import AutoTokenizer, AutoModelForQuestionAnswering, pipeline\n",
        "\n",
        "# Specify the DistilBERT model name\n",
        "model_name = \"distilbert-base-uncased\"  # You can choose a different DistilBERT model from HuggingFace\n",
        "\n",
        "# Load the tokenizer associated with the DistilBERT model\n",
        "tokenizer = AutoTokenizer.from_pretrained(model_name)\n",
        "\n",
        "# Define a question-answering pipeline using the DistilBERT model and tokenizer\n",
        "question_answerer = pipeline(\n",
        "    \"question-answering\",  # Keep the pipeline task the same\n",
        "    model=model_name,\n",
        "    tokenizer=tokenizer,\n",
        "    return_tensors=\"pt\"  # Specify tensor format for processing\n",
        ")\n",
        "\n",
        "# Create an instance of the HuggingFacePipeline (optional)\n",
        "# You can remove this part if you don't need additional model-specific arguments\n",
        "llm = HuggingFacePipeline(\n",
        "    pipeline=question_answerer,\n",
        "    model_kwargs={\"temperature\": 0.7, \"max_length\": 512},  # Optional arguments\n",
        ")\n"
      ],
      "metadata": {
        "colab": {
          "base_uri": "https://localhost:8080/"
        },
        "id": "H3GipixYt7k1",
        "outputId": "3763a4fd-0ada-415d-a369-9219f309b379"
      },
      "execution_count": 30,
      "outputs": [
        {
          "output_type": "stream",
          "name": "stderr",
          "text": [
            "/usr/local/lib/python3.10/dist-packages/huggingface_hub/file_download.py:1132: FutureWarning: `resume_download` is deprecated and will be removed in version 1.0.0. Downloads always resume when possible. If you want to force a new download, use `force_download=True`.\n",
            "  warnings.warn(\n",
            "Some weights of DistilBertForQuestionAnswering were not initialized from the model checkpoint at distilbert-base-uncased and are newly initialized: ['qa_outputs.bias', 'qa_outputs.weight']\n",
            "You should probably TRAIN this model on a down-stream task to be able to use it for predictions and inference.\n"
          ]
        }
      ]
    },
    {
      "cell_type": "markdown",
      "source": [
        "# Retriever"
      ],
      "metadata": {
        "id": "dbNatZ8s4R_B"
      }
    },
    {
      "cell_type": "code",
      "source": [
        "retriever = db.as_retriever()\n"
      ],
      "metadata": {
        "id": "l1lBd-_24VCX"
      },
      "execution_count": 31,
      "outputs": []
    },
    {
      "cell_type": "markdown",
      "source": [],
      "metadata": {
        "id": "WAK7xN3M4aBY"
      }
    },
    {
      "cell_type": "code",
      "source": [
        "docs = retriever.get_relevant_documents(\"What is AASTU?\")\n",
        "print(docs[2].page_content)"
      ],
      "metadata": {
        "colab": {
          "base_uri": "https://localhost:8080/"
        },
        "id": "yZpgGxgU4Zdv",
        "outputId": "4820def6-54b7-4ba3-a776-45f004c4c3bd"
      },
      "execution_count": 36,
      "outputs": [
        {
          "output_type": "stream",
          "name": "stdout",
          "text": [
            "cm1 alkane 2920 cm1 nitrile 2114 cm1 and aromatics 1613 cm1 the minimum cr adsorption performance of 156 was obtained whereas maximum removal of 904 was recorded at the experimental condition of ph 2 adsorbent dose of 15 g100 ml and contact time of 120 min at a fixed value of initial cr concentration of 100 mgl similarly the maximum cr removal from real electroplating wastewater was 812 at this optimum point langmuirs model best described the experimental value at r2 096 which implies the adsorption is chemically bonded homogeneous and monolayer pseudosecondorder model best fits with the experimental data with r2 value of 099 the adsorbent was regenerated for seven cycles and the removal efficiency decreased from 9325 to 2135 finally this technology is promising to be scaled up to an industrial level 10 issue 1 september 2023 in honor of tarekegn berhanu esho phd associate professor of analytical chemistry june 1963october 2023 it is with heavy hearts and a deep sense of sor row that we remember and honor the late dr tarekegn berhanu esho a beacon in the world chemistry whose journey from the sunlit landscapes of nopa woreda iluababor ethiopia to the corridors of academic excellence has left an indelible mark on all who had the privilege of knowing him born to his father ato berhanu esho and his mother wo feyisie dano on june 24 1963 dr tarekegn berhanu eshos early years were marked by a thirst for knowledge that would guide him through a remarkable academic and professional journey from the halls of nopa kidanemiheret primary school to metu senior secondary high school ethiopia he cultivated a foundation that would pave the way for a life dedicated to learning and teaching his academic prowess and insatiable curiosity led him to addis ababa university where he earned his bsc degree in july 1987 msc degree in analytical chemistry in july 1994 and a phd degree in march 2008 these milestones were not merely academic achievements they were a testament to dr tarekegns unwavering commitment to advancing the frontiers of knowledge for two decades dr tarekegn berhanu esho served as the department head and dean of the college at jimma universi aastuquarterly research newsletter volume 1 ty contributing to the intellectual and personal growth of countless individuals his leadership was characterized by compassion vision and a genuine desire to see his students thrive beyond the borders of ethiopia dr tarkegns impact reached international heights as a researcher at lund university sweden and a highlevel expert at the former quality and standards authority of ethiopia qsae now ethiopian standards institute ies he played a pivotal role in shaping standards of excellence and contributing to global scientific discourse since february 2017 dr esho continued his dedicated service at addis ababa science and technology university ethiopia where he wore multiple hats as an instructor researcher and vice president for academic affairs his influence extended beyond\n"
          ]
        }
      ]
    },
    {
      "cell_type": "markdown",
      "source": [
        "# RetrievalQA Chain"
      ],
      "metadata": {
        "id": "H46G0-Tp47Zs"
      }
    },
    {
      "cell_type": "code",
      "source": [
        "# Create a retriever object from the 'db' with a search configuration where it retrieves up to 4 relevant splits/documents.\n",
        "retriever = db.as_retriever(search_kwargs={\"k\": 4})\n",
        "\n",
        "# Create a question-answering instance (qa) using the RetrievalQA class.\n",
        "# It's configured with a language model (llm), a chain type \"refine,\" the retriever we created, and an option to not return source documents.\n",
        "qa = RetrievalQA.from_chain_type(llm=llm, chain_type=\"refine\", retriever=retriever, return_source_documents=False)"
      ],
      "metadata": {
        "id": "69PuKBjH4ck4"
      },
      "execution_count": 37,
      "outputs": []
    }
  ]
}